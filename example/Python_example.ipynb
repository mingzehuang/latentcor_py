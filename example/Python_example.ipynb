{
 "cells": [
  {
   "cell_type": "code",
   "execution_count": 1,
   "metadata": {},
   "outputs": [
    {
     "data": {
      "image/png": "[encoded data removed]",
      "text/plain": [
       "<Figure size 432x288 with 1 Axes>"
      ]
     },
     "metadata": {
      "needs_background": "light"
     },
     "output_type": "display_data"
    }
   ],
   "source": [
    "from latentcor import gen_data, get_tps, latentcor\n",
    "simdata = gen_data(n = 100, tps = [\"ter\", \"con\"], showplot = True)"
   ]
  },
  {
   "cell_type": "code",
   "execution_count": 2,
   "metadata": {},
   "outputs": [
    {
     "data": {
      "text/plain": [
       "2"
      ]
     },
     "execution_count": 2,
     "metadata": {},
     "output_type": "execute_result"
    }
   ],
   "source": [
    "len(simdata)"
   ]
  },
  {
   "cell_type": "code",
   "execution_count": 3,
   "metadata": {},
   "outputs": [
    {
     "name": "stdout",
     "output_type": "stream",
     "text": [
      "[[ 1.          0.30891851]\n",
      " [ 1.         -0.17183692]\n",
      " [ 0.         -0.3247789 ]\n",
      " [ 2.          0.88417791]\n",
      " [ 0.         -0.79998359]\n",
      " [ 0.          0.06306974]]\n"
     ]
    }
   ],
   "source": [
    "print(simdata['X'][ : 6, : ])"
   ]
  },
  {
   "cell_type": "code",
   "execution_count": 4,
   "metadata": {},
   "outputs": [
    {
     "name": "stdout",
     "output_type": "stream",
     "text": [
      "AxesSubplot(0.125,0.125;0.775x0.755)\n"
     ]
    }
   ],
   "source": [
    "print(simdata['plotX'])"
   ]
  },
  {
   "cell_type": "code",
   "execution_count": 6,
   "metadata": {},
   "outputs": [],
   "source": [
    "estimate = latentcor(simdata['X'], tps = [\"ter\", \"con\"])"
   ]
  },
  {
   "cell_type": "code",
   "execution_count": 7,
   "metadata": {},
   "outputs": [
    {
     "data": {
      "text/plain": [
       "5"
      ]
     },
     "execution_count": 7,
     "metadata": {},
     "output_type": "execute_result"
    }
   ],
   "source": [
    "len(estimate)"
   ]
  },
  {
   "cell_type": "code",
   "execution_count": 8,
   "metadata": {},
   "outputs": [
    {
     "data": {
      "text/plain": [
       "array([[0.3, nan],\n",
       "       [0.8, nan]])"
      ]
     },
     "execution_count": 8,
     "metadata": {},
     "output_type": "execute_result"
    }
   ],
   "source": [
    "estimate['zratios']"
   ]
  },
  {
   "cell_type": "code",
   "execution_count": 9,
   "metadata": {},
   "outputs": [
    {
     "data": {
      "text/html": [
       "<div>\n",
       "<style scoped>\n",
       "    .dataframe tbody tr th:only-of-type {\n",
       "        vertical-align: middle;\n",
       "    }\n",
       "\n",
       "    .dataframe tbody tr th {\n",
       "        vertical-align: top;\n",
       "    }\n",
       "\n",
       "    .dataframe thead th {\n",
       "        text-align: right;\n",
       "    }\n",
       "</style>\n",
       "<table border=\"1\" class=\"dataframe\">\n",
       "  <thead>\n",
       "    <tr style=\"text-align: right;\">\n",
       "      <th></th>\n",
       "      <th>0</th>\n",
       "      <th>1</th>\n",
       "    </tr>\n",
       "  </thead>\n",
       "  <tbody>\n",
       "    <tr>\n",
       "      <th>0</th>\n",
       "      <td>1.000000</td>\n",
       "      <td>0.275556</td>\n",
       "    </tr>\n",
       "    <tr>\n",
       "      <th>1</th>\n",
       "      <td>0.275556</td>\n",
       "      <td>1.000000</td>\n",
       "    </tr>\n",
       "  </tbody>\n",
       "</table>\n",
       "</div>"
      ],
      "text/plain": [
       "          0         1\n",
       "0  1.000000  0.275556\n",
       "1  0.275556  1.000000"
      ]
     },
     "execution_count": 9,
     "metadata": {},
     "output_type": "execute_result"
    }
   ],
   "source": [
    "estimate['K']"
   ]
  },
  {
   "cell_type": "code",
   "execution_count": 10,
   "metadata": {},
   "outputs": [
    {
     "data": {
      "text/html": [
       "<div>\n",
       "<style scoped>\n",
       "    .dataframe tbody tr th:only-of-type {\n",
       "        vertical-align: middle;\n",
       "    }\n",
       "\n",
       "    .dataframe tbody tr th {\n",
       "        vertical-align: top;\n",
       "    }\n",
       "\n",
       "    .dataframe thead th {\n",
       "        text-align: right;\n",
       "    }\n",
       "</style>\n",
       "<table border=\"1\" class=\"dataframe\">\n",
       "  <thead>\n",
       "    <tr style=\"text-align: right;\">\n",
       "      <th></th>\n",
       "      <th>0</th>\n",
       "      <th>1</th>\n",
       "    </tr>\n",
       "  </thead>\n",
       "  <tbody>\n",
       "    <tr>\n",
       "      <th>0</th>\n",
       "      <td>1.000000</td>\n",
       "      <td>0.499314</td>\n",
       "    </tr>\n",
       "    <tr>\n",
       "      <th>1</th>\n",
       "      <td>0.499314</td>\n",
       "      <td>1.000000</td>\n",
       "    </tr>\n",
       "  </tbody>\n",
       "</table>\n",
       "</div>"
      ],
      "text/plain": [
       "          0         1\n",
       "0  1.000000  0.499314\n",
       "1  0.499314  1.000000"
      ]
     },
     "execution_count": 10,
     "metadata": {},
     "output_type": "execute_result"
    }
   ],
   "source": [
    "estimate['Rpointwise']"
   ]
  },
  {
   "cell_type": "code",
   "execution_count": 11,
   "metadata": {},
   "outputs": [
    {
     "data": {
      "text/html": [
       "<div>\n",
       "<style scoped>\n",
       "    .dataframe tbody tr th:only-of-type {\n",
       "        vertical-align: middle;\n",
       "    }\n",
       "\n",
       "    .dataframe tbody tr th {\n",
       "        vertical-align: top;\n",
       "    }\n",
       "\n",
       "    .dataframe thead th {\n",
       "        text-align: right;\n",
       "    }\n",
       "</style>\n",
       "<table border=\"1\" class=\"dataframe\">\n",
       "  <thead>\n",
       "    <tr style=\"text-align: right;\">\n",
       "      <th></th>\n",
       "      <th>0</th>\n",
       "      <th>1</th>\n",
       "    </tr>\n",
       "  </thead>\n",
       "  <tbody>\n",
       "    <tr>\n",
       "      <th>0</th>\n",
       "      <td>1.000000</td>\n",
       "      <td>0.498815</td>\n",
       "    </tr>\n",
       "    <tr>\n",
       "      <th>1</th>\n",
       "      <td>0.498815</td>\n",
       "      <td>1.000000</td>\n",
       "    </tr>\n",
       "  </tbody>\n",
       "</table>\n",
       "</div>"
      ],
      "text/plain": [
       "          0         1\n",
       "0  1.000000  0.498815\n",
       "1  0.498815  1.000000"
      ]
     },
     "execution_count": 11,
     "metadata": {},
     "output_type": "execute_result"
    }
   ],
   "source": [
    "estimate['R']"
   ]
  },
  {
   "cell_type": "code",
   "execution_count": 13,
   "metadata": {},
   "outputs": [],
   "source": [
    "estimate['plot']"
   ]
  },
  {
   "cell_type": "code",
   "execution_count": 14,
   "metadata": {},
   "outputs": [],
   "source": [
    "import numpy as np\n",
    "import pandas as pd\n",
    "from pyreadr import read_r"
   ]
  },
  {
   "cell_type": "code",
   "execution_count": 15,
   "metadata": {},
   "outputs": [],
   "source": [
    "housing = read_r('housing.rdata')['housing']"
   ]
  },
  {
   "cell_type": "code",
   "execution_count": 16,
   "metadata": {},
   "outputs": [
    {
     "name": "stdout",
     "output_type": "stream",
     "text": [
      "    price lotsize bedrooms bathrms stories driveway recroom fullbase gashw  \\\n",
      "1   42000    5850        3       1       2      yes      no      yes    no   \n",
      "2   38500    4000        2       1       1      yes      no       no    no   \n",
      "3   49500    3060        3       1       1      yes      no       no    no   \n",
      "4   60500    6650        3       1       2      yes     yes       no    no   \n",
      "5   61000    6360        2       1       1      yes      no       no    no   \n",
      "6   66000    4160        3       1       1      yes     yes      yes    no   \n",
      "\n",
      "  airco garagepl prefarea  \n",
      "1    no        1       no  \n",
      "2    no        0       no  \n",
      "3    no        0       no  \n",
      "4    no        0       no  \n",
      "5    no        0       no  \n",
      "6   yes        0       no  \n"
     ]
    }
   ],
   "source": [
    "print(housing.iloc[ :6, : ])"
   ]
  },
  {
   "cell_type": "code",
   "execution_count": 17,
   "metadata": {},
   "outputs": [
    {
     "name": "stdout",
     "output_type": "stream",
     "text": [
      "['1' '2' '3' '4' '5' '6']\n",
      "['1' '2' '3' '4']\n",
      "['1' '2' '3' '4']\n",
      "['no' 'yes']\n",
      "['no' 'yes']\n",
      "['no' 'yes']\n",
      "['no' 'yes']\n",
      "['no' 'yes']\n",
      "['0' '1' '2' '3']\n",
      "['no' 'yes']\n"
     ]
    }
   ],
   "source": [
    "print(np.unique(housing['bedrooms']))\n",
    "print(np.unique(housing['bathrms']))\n",
    "print(np.unique(housing['stories']))\n",
    "print(np.unique(housing['driveway']))\n",
    "print(np.unique(housing['recroom']))\n",
    "print(np.unique(housing['fullbase']))\n",
    "print(np.unique(housing['gashw']))\n",
    "print(np.unique(housing['airco']))\n",
    "print(np.unique(housing['garagepl']))\n",
    "print(np.unique(housing['prefarea']))"
   ]
  },
  {
   "cell_type": "code",
   "execution_count": 18,
   "metadata": {},
   "outputs": [],
   "source": [
    "housing = housing.replace('no', 0)"
   ]
  },
  {
   "cell_type": "code",
   "execution_count": 19,
   "metadata": {},
   "outputs": [],
   "source": [
    "housing = housing.replace('yes', 1)"
   ]
  },
  {
   "cell_type": "code",
   "execution_count": 20,
   "metadata": {},
   "outputs": [
    {
     "name": "stdout",
     "output_type": "stream",
     "text": [
      "      price lotsize bedrooms bathrms stories  driveway  recroom  fullbase  \\\n",
      "1     42000    5850        3       1       2         1        0         1   \n",
      "2     38500    4000        2       1       1         1        0         0   \n",
      "3     49500    3060        3       1       1         1        0         0   \n",
      "4     60500    6650        3       1       2         1        1         0   \n",
      "5     61000    6360        2       1       1         1        0         0   \n",
      "..      ...     ...      ...     ...     ...       ...      ...       ...   \n",
      "542   91500    4800        3       2       4         1        1         0   \n",
      "543   94000    6000        3       2       4         1        0         0   \n",
      "544  103000    6000        3       2       4         1        1         0   \n",
      "545  105000    6000        3       2       2         1        1         0   \n",
      "546  105000    6000        3       1       2         1        0         0   \n",
      "\n",
      "     gashw  airco garagepl  prefarea  \n",
      "1        0      0        1         0  \n",
      "2        0      0        0         0  \n",
      "3        0      0        0         0  \n",
      "4        0      0        0         0  \n",
      "5        0      0        0         0  \n",
      "..     ...    ...      ...       ...  \n",
      "542      0      1        0         0  \n",
      "543      0      1        0         0  \n",
      "544      0      1        1         0  \n",
      "545      0      1        1         0  \n",
      "546      0      1        1         0  \n",
      "\n",
      "[546 rows x 12 columns]\n"
     ]
    }
   ],
   "source": [
    "print(housing)"
   ]
  },
  {
   "cell_type": "code",
   "execution_count": 21,
   "metadata": {},
   "outputs": [
    {
     "name": "stdout",
     "output_type": "stream",
     "text": [
      "    price lotsize bedrooms bathrms stories  driveway  recroom  fullbase  \\\n",
      "1   42000    5850        3       1       2         1        0         1   \n",
      "2   38500    4000        2       1       1         1        0         0   \n",
      "3   49500    3060        3       1       1         1        0         0   \n",
      "4   60500    6650        3       1       2         1        1         0   \n",
      "5   61000    6360        2       1       1         1        0         0   \n",
      "6   66000    4160        3       1       1         1        1         1   \n",
      "\n",
      "   gashw  airco garagepl  prefarea  \n",
      "1      0      0        1         0  \n",
      "2      0      0        0         0  \n",
      "3      0      0        0         0  \n",
      "4      0      0        0         0  \n",
      "5      0      0        0         0  \n",
      "6      0      1        0         0  \n"
     ]
    }
   ],
   "source": [
    "print(housing.iloc[ :6, : ])"
   ]
  },
  {
   "cell_type": "code",
   "execution_count": 22,
   "metadata": {},
   "outputs": [
    {
     "data": {
      "image/png": "[encoded data removed]",
      "text/plain": [
       "<Figure size 432x288 with 2 Axes>"
      ]
     },
     "metadata": {
      "needs_background": "light"
     },
     "output_type": "display_data"
    }
   ],
   "source": [
    "from latentcor import latentcor, get_tps\n",
    "estimate_housing = latentcor(housing, tps = [\"con\", \"con\", \"con\", \"con\",\n",
    "                  \"con\", \"bin\", \"bin\", \"bin\", \"bin\", \"bin\", \"tru\", \"bin\"], use_nearPD=False, method = \"original\", showplot = True)"
   ]
  },
  {
   "cell_type": "code",
   "execution_count": 24,
   "metadata": {},
   "outputs": [
    {
     "name": "stdout",
     "output_type": "stream",
     "text": [
      "ordinal levels between 4 and 10 will be approximated by either countinuous or truncated type.\n",
      "ordinal levels between 4 and 10 will be approximated by either countinuous or truncated type.\n",
      "ordinal levels between 4 and 10 will be approximated by either countinuous or truncated type.\n",
      "ordinal levels between 4 and 10 will be approximated by either countinuous or truncated type.\n"
     ]
    },
    {
     "data": {
      "text/plain": [
       "array(['con', 'con', 'con', 'con', 'con', 'bin', 'bin', 'bin', 'bin',\n",
       "       'bin', 'tru', 'bin'], dtype='<U3')"
      ]
     },
     "execution_count": 24,
     "metadata": {},
     "output_type": "execute_result"
    }
   ],
   "source": [
    "get_tps(housing)"
   ]
  },
  {
   "cell_type": "code",
   "execution_count": 25,
   "metadata": {},
   "outputs": [
    {
     "data": {
      "text/plain": [
       "Text(0.5, 1.0, 'Histogram of garagepl')"
      ]
     },
     "execution_count": 25,
     "metadata": {},
     "output_type": "execute_result"
    },
    {
     "data": {
      "image/png": "[encoded data removed]",
      "text/plain": [
       "<Figure size 432x288 with 1 Axes>"
      ]
     },
     "metadata": {
      "needs_background": "light"
     },
     "output_type": "display_data"
    }
   ],
   "source": [
    "import matplotlib.pyplot as plt\n",
    "plt.hist(np.sort(housing['garagepl']))\n",
    "plt.title('Histogram of garagepl')"
   ]
  },
  {
   "cell_type": "code",
   "execution_count": 26,
   "metadata": {},
   "outputs": [
    {
     "data": {
      "text/plain": [
       "5"
      ]
     },
     "execution_count": 26,
     "metadata": {},
     "output_type": "execute_result"
    }
   ],
   "source": [
    "len(estimate_housing)"
   ]
  },
  {
   "cell_type": "code",
   "execution_count": 28,
   "metadata": {},
   "outputs": [
    {
     "data": {
      "text/plain": [
       "array([[       nan,        nan,        nan,        nan,        nan,\n",
       "        0.14102564, 0.82234432, 0.65018315, 0.95421245, 0.68315018,\n",
       "        0.54945055, 0.76556777],\n",
       "       [       nan,        nan,        nan,        nan,        nan,\n",
       "               nan,        nan,        nan,        nan,        nan,\n",
       "               nan,        nan]])"
      ]
     },
     "execution_count": 28,
     "metadata": {},
     "output_type": "execute_result"
    }
   ],
   "source": [
    "estimate_housing['zratios']"
   ]
  },
  {
   "cell_type": "code",
   "execution_count": 29,
   "metadata": {},
   "outputs": [
    {
     "data": {
      "text/html": [
       "<div>\n",
       "<style scoped>\n",
       "    .dataframe tbody tr th:only-of-type {\n",
       "        vertical-align: middle;\n",
       "    }\n",
       "\n",
       "    .dataframe tbody tr th {\n",
       "        vertical-align: top;\n",
       "    }\n",
       "\n",
       "    .dataframe thead th {\n",
       "        text-align: right;\n",
       "    }\n",
       "</style>\n",
       "<table border=\"1\" class=\"dataframe\">\n",
       "  <thead>\n",
       "    <tr style=\"text-align: right;\">\n",
       "      <th></th>\n",
       "      <th>price</th>\n",
       "      <th>lotsize</th>\n",
       "      <th>bedrooms</th>\n",
       "      <th>bathrms</th>\n",
       "      <th>stories</th>\n",
       "      <th>driveway</th>\n",
       "      <th>recroom</th>\n",
       "      <th>fullbase</th>\n",
       "      <th>gashw</th>\n",
       "      <th>airco</th>\n",
       "      <th>garagepl</th>\n",
       "      <th>prefarea</th>\n",
       "    </tr>\n",
       "  </thead>\n",
       "  <tbody>\n",
       "    <tr>\n",
       "      <th>price</th>\n",
       "      <td>1.000</td>\n",
       "      <td>0.420</td>\n",
       "      <td>0.238</td>\n",
       "      <td>0.247</td>\n",
       "      <td>0.227</td>\n",
       "      <td>0.137</td>\n",
       "      <td>0.132</td>\n",
       "      <td>0.126</td>\n",
       "      <td>0.021</td>\n",
       "      <td>0.247</td>\n",
       "      <td>0.218</td>\n",
       "      <td>0.170</td>\n",
       "    </tr>\n",
       "    <tr>\n",
       "      <th>lotsize</th>\n",
       "      <td>0.420</td>\n",
       "      <td>1.000</td>\n",
       "      <td>0.105</td>\n",
       "      <td>0.110</td>\n",
       "      <td>0.038</td>\n",
       "      <td>0.135</td>\n",
       "      <td>0.093</td>\n",
       "      <td>0.035</td>\n",
       "      <td>-0.003</td>\n",
       "      <td>0.153</td>\n",
       "      <td>0.213</td>\n",
       "      <td>0.121</td>\n",
       "    </tr>\n",
       "    <tr>\n",
       "      <th>bedrooms</th>\n",
       "      <td>0.238</td>\n",
       "      <td>0.105</td>\n",
       "      <td>1.000</td>\n",
       "      <td>0.174</td>\n",
       "      <td>0.277</td>\n",
       "      <td>-0.002</td>\n",
       "      <td>0.036</td>\n",
       "      <td>0.051</td>\n",
       "      <td>0.008</td>\n",
       "      <td>0.088</td>\n",
       "      <td>0.079</td>\n",
       "      <td>0.044</td>\n",
       "    </tr>\n",
       "    <tr>\n",
       "      <th>bathrms</th>\n",
       "      <td>0.247</td>\n",
       "      <td>0.110</td>\n",
       "      <td>0.174</td>\n",
       "      <td>1.000</td>\n",
       "      <td>0.144</td>\n",
       "      <td>0.015</td>\n",
       "      <td>0.046</td>\n",
       "      <td>0.046</td>\n",
       "      <td>0.013</td>\n",
       "      <td>0.084</td>\n",
       "      <td>0.081</td>\n",
       "      <td>0.029</td>\n",
       "    </tr>\n",
       "    <tr>\n",
       "      <th>stories</th>\n",
       "      <td>0.227</td>\n",
       "      <td>0.038</td>\n",
       "      <td>0.277</td>\n",
       "      <td>0.144</td>\n",
       "      <td>1.000</td>\n",
       "      <td>0.036</td>\n",
       "      <td>0.012</td>\n",
       "      <td>-0.068</td>\n",
       "      <td>0.010</td>\n",
       "      <td>0.118</td>\n",
       "      <td>0.009</td>\n",
       "      <td>0.018</td>\n",
       "    </tr>\n",
       "    <tr>\n",
       "      <th>driveway</th>\n",
       "      <td>0.137</td>\n",
       "      <td>0.135</td>\n",
       "      <td>-0.002</td>\n",
       "      <td>0.015</td>\n",
       "      <td>0.036</td>\n",
       "      <td>1.000</td>\n",
       "      <td>0.025</td>\n",
       "      <td>0.014</td>\n",
       "      <td>-0.002</td>\n",
       "      <td>0.034</td>\n",
       "      <td>0.071</td>\n",
       "      <td>0.059</td>\n",
       "    </tr>\n",
       "    <tr>\n",
       "      <th>recroom</th>\n",
       "      <td>0.132</td>\n",
       "      <td>0.093</td>\n",
       "      <td>0.036</td>\n",
       "      <td>0.046</td>\n",
       "      <td>0.012</td>\n",
       "      <td>0.025</td>\n",
       "      <td>1.000</td>\n",
       "      <td>0.136</td>\n",
       "      <td>-0.002</td>\n",
       "      <td>0.049</td>\n",
       "      <td>0.020</td>\n",
       "      <td>0.052</td>\n",
       "    </tr>\n",
       "    <tr>\n",
       "      <th>fullbase</th>\n",
       "      <td>0.126</td>\n",
       "      <td>0.035</td>\n",
       "      <td>0.051</td>\n",
       "      <td>0.046</td>\n",
       "      <td>-0.068</td>\n",
       "      <td>0.014</td>\n",
       "      <td>0.136</td>\n",
       "      <td>1.000</td>\n",
       "      <td>0.001</td>\n",
       "      <td>0.020</td>\n",
       "      <td>0.024</td>\n",
       "      <td>0.093</td>\n",
       "    </tr>\n",
       "    <tr>\n",
       "      <th>gashw</th>\n",
       "      <td>0.021</td>\n",
       "      <td>-0.003</td>\n",
       "      <td>0.008</td>\n",
       "      <td>0.013</td>\n",
       "      <td>0.010</td>\n",
       "      <td>-0.002</td>\n",
       "      <td>-0.002</td>\n",
       "      <td>0.001</td>\n",
       "      <td>1.000</td>\n",
       "      <td>-0.025</td>\n",
       "      <td>0.018</td>\n",
       "      <td>-0.010</td>\n",
       "    </tr>\n",
       "    <tr>\n",
       "      <th>airco</th>\n",
       "      <td>0.247</td>\n",
       "      <td>0.153</td>\n",
       "      <td>0.088</td>\n",
       "      <td>0.084</td>\n",
       "      <td>0.118</td>\n",
       "      <td>0.034</td>\n",
       "      <td>0.049</td>\n",
       "      <td>0.020</td>\n",
       "      <td>-0.025</td>\n",
       "      <td>1.000</td>\n",
       "      <td>0.076</td>\n",
       "      <td>0.046</td>\n",
       "    </tr>\n",
       "    <tr>\n",
       "      <th>garagepl</th>\n",
       "      <td>0.218</td>\n",
       "      <td>0.213</td>\n",
       "      <td>0.079</td>\n",
       "      <td>0.081</td>\n",
       "      <td>0.009</td>\n",
       "      <td>0.071</td>\n",
       "      <td>0.020</td>\n",
       "      <td>0.024</td>\n",
       "      <td>0.018</td>\n",
       "      <td>0.076</td>\n",
       "      <td>1.000</td>\n",
       "      <td>0.040</td>\n",
       "    </tr>\n",
       "    <tr>\n",
       "      <th>prefarea</th>\n",
       "      <td>0.170</td>\n",
       "      <td>0.121</td>\n",
       "      <td>0.044</td>\n",
       "      <td>0.029</td>\n",
       "      <td>0.018</td>\n",
       "      <td>0.059</td>\n",
       "      <td>0.052</td>\n",
       "      <td>0.093</td>\n",
       "      <td>-0.010</td>\n",
       "      <td>0.046</td>\n",
       "      <td>0.040</td>\n",
       "      <td>1.000</td>\n",
       "    </tr>\n",
       "  </tbody>\n",
       "</table>\n",
       "</div>"
      ],
      "text/plain": [
       "          price  lotsize  bedrooms  bathrms  stories  driveway  recroom  \\\n",
       "price     1.000    0.420     0.238    0.247    0.227     0.137    0.132   \n",
       "lotsize   0.420    1.000     0.105    0.110    0.038     0.135    0.093   \n",
       "bedrooms  0.238    0.105     1.000    0.174    0.277    -0.002    0.036   \n",
       "bathrms   0.247    0.110     0.174    1.000    0.144     0.015    0.046   \n",
       "stories   0.227    0.038     0.277    0.144    1.000     0.036    0.012   \n",
       "driveway  0.137    0.135    -0.002    0.015    0.036     1.000    0.025   \n",
       "recroom   0.132    0.093     0.036    0.046    0.012     0.025    1.000   \n",
       "fullbase  0.126    0.035     0.051    0.046   -0.068     0.014    0.136   \n",
       "gashw     0.021   -0.003     0.008    0.013    0.010    -0.002   -0.002   \n",
       "airco     0.247    0.153     0.088    0.084    0.118     0.034    0.049   \n",
       "garagepl  0.218    0.213     0.079    0.081    0.009     0.071    0.020   \n",
       "prefarea  0.170    0.121     0.044    0.029    0.018     0.059    0.052   \n",
       "\n",
       "          fullbase  gashw  airco  garagepl  prefarea  \n",
       "price        0.126  0.021  0.247     0.218     0.170  \n",
       "lotsize      0.035 -0.003  0.153     0.213     0.121  \n",
       "bedrooms     0.051  0.008  0.088     0.079     0.044  \n",
       "bathrms      0.046  0.013  0.084     0.081     0.029  \n",
       "stories     -0.068  0.010  0.118     0.009     0.018  \n",
       "driveway     0.014 -0.002  0.034     0.071     0.059  \n",
       "recroom      0.136 -0.002  0.049     0.020     0.052  \n",
       "fullbase     1.000  0.001  0.020     0.024     0.093  \n",
       "gashw        0.001  1.000 -0.025     0.018    -0.010  \n",
       "airco        0.020 -0.025  1.000     0.076     0.046  \n",
       "garagepl     0.024  0.018  0.076     1.000     0.040  \n",
       "prefarea     0.093 -0.010  0.046     0.040     1.000  "
      ]
     },
     "execution_count": 29,
     "metadata": {},
     "output_type": "execute_result"
    }
   ],
   "source": [
    "np.round(estimate_housing['K'], decimals=3)"
   ]
  },
  {
   "cell_type": "code",
   "execution_count": 30,
   "metadata": {},
   "outputs": [
    {
     "data": {
      "text/html": [
       "<div>\n",
       "<style scoped>\n",
       "    .dataframe tbody tr th:only-of-type {\n",
       "        vertical-align: middle;\n",
       "    }\n",
       "\n",
       "    .dataframe tbody tr th {\n",
       "        vertical-align: top;\n",
       "    }\n",
       "\n",
       "    .dataframe thead th {\n",
       "        text-align: right;\n",
       "    }\n",
       "</style>\n",
       "<table border=\"1\" class=\"dataframe\">\n",
       "  <thead>\n",
       "    <tr style=\"text-align: right;\">\n",
       "      <th></th>\n",
       "      <th>price</th>\n",
       "      <th>lotsize</th>\n",
       "      <th>bedrooms</th>\n",
       "      <th>bathrms</th>\n",
       "      <th>stories</th>\n",
       "      <th>driveway</th>\n",
       "      <th>recroom</th>\n",
       "      <th>fullbase</th>\n",
       "      <th>gashw</th>\n",
       "      <th>airco</th>\n",
       "      <th>garagepl</th>\n",
       "      <th>prefarea</th>\n",
       "    </tr>\n",
       "  </thead>\n",
       "  <tbody>\n",
       "    <tr>\n",
       "      <th>price</th>\n",
       "      <td>1.000</td>\n",
       "      <td>0.612</td>\n",
       "      <td>0.365</td>\n",
       "      <td>0.378</td>\n",
       "      <td>0.349</td>\n",
       "      <td>0.546</td>\n",
       "      <td>0.449</td>\n",
       "      <td>0.300</td>\n",
       "      <td>0.191</td>\n",
       "      <td>0.599</td>\n",
       "      <td>0.411</td>\n",
       "      <td>0.486</td>\n",
       "    </tr>\n",
       "    <tr>\n",
       "      <th>lotsize</th>\n",
       "      <td>0.612</td>\n",
       "      <td>1.000</td>\n",
       "      <td>0.164</td>\n",
       "      <td>0.172</td>\n",
       "      <td>0.060</td>\n",
       "      <td>0.537</td>\n",
       "      <td>0.315</td>\n",
       "      <td>0.083</td>\n",
       "      <td>-0.031</td>\n",
       "      <td>0.378</td>\n",
       "      <td>0.402</td>\n",
       "      <td>0.347</td>\n",
       "    </tr>\n",
       "    <tr>\n",
       "      <th>bedrooms</th>\n",
       "      <td>0.365</td>\n",
       "      <td>0.164</td>\n",
       "      <td>1.000</td>\n",
       "      <td>0.270</td>\n",
       "      <td>0.421</td>\n",
       "      <td>-0.006</td>\n",
       "      <td>0.122</td>\n",
       "      <td>0.121</td>\n",
       "      <td>0.073</td>\n",
       "      <td>0.218</td>\n",
       "      <td>0.152</td>\n",
       "      <td>0.128</td>\n",
       "    </tr>\n",
       "    <tr>\n",
       "      <th>bathrms</th>\n",
       "      <td>0.378</td>\n",
       "      <td>0.172</td>\n",
       "      <td>0.270</td>\n",
       "      <td>1.000</td>\n",
       "      <td>0.224</td>\n",
       "      <td>0.060</td>\n",
       "      <td>0.155</td>\n",
       "      <td>0.111</td>\n",
       "      <td>0.118</td>\n",
       "      <td>0.208</td>\n",
       "      <td>0.156</td>\n",
       "      <td>0.084</td>\n",
       "    </tr>\n",
       "    <tr>\n",
       "      <th>stories</th>\n",
       "      <td>0.349</td>\n",
       "      <td>0.060</td>\n",
       "      <td>0.421</td>\n",
       "      <td>0.224</td>\n",
       "      <td>1.000</td>\n",
       "      <td>0.144</td>\n",
       "      <td>0.042</td>\n",
       "      <td>-0.162</td>\n",
       "      <td>0.094</td>\n",
       "      <td>0.292</td>\n",
       "      <td>0.017</td>\n",
       "      <td>0.053</td>\n",
       "    </tr>\n",
       "    <tr>\n",
       "      <th>driveway</th>\n",
       "      <td>0.546</td>\n",
       "      <td>0.537</td>\n",
       "      <td>-0.006</td>\n",
       "      <td>0.060</td>\n",
       "      <td>0.144</td>\n",
       "      <td>1.000</td>\n",
       "      <td>0.240</td>\n",
       "      <td>0.089</td>\n",
       "      <td>-0.039</td>\n",
       "      <td>0.231</td>\n",
       "      <td>0.380</td>\n",
       "      <td>0.582</td>\n",
       "    </tr>\n",
       "    <tr>\n",
       "      <th>recroom</th>\n",
       "      <td>0.449</td>\n",
       "      <td>0.315</td>\n",
       "      <td>0.122</td>\n",
       "      <td>0.155</td>\n",
       "      <td>0.042</td>\n",
       "      <td>0.240</td>\n",
       "      <td>1.000</td>\n",
       "      <td>0.619</td>\n",
       "      <td>-0.033</td>\n",
       "      <td>0.248</td>\n",
       "      <td>0.081</td>\n",
       "      <td>0.297</td>\n",
       "    </tr>\n",
       "    <tr>\n",
       "      <th>fullbase</th>\n",
       "      <td>0.300</td>\n",
       "      <td>0.083</td>\n",
       "      <td>0.121</td>\n",
       "      <td>0.111</td>\n",
       "      <td>-0.162</td>\n",
       "      <td>0.089</td>\n",
       "      <td>0.619</td>\n",
       "      <td>1.000</td>\n",
       "      <td>0.013</td>\n",
       "      <td>0.076</td>\n",
       "      <td>0.069</td>\n",
       "      <td>0.381</td>\n",
       "    </tr>\n",
       "    <tr>\n",
       "      <th>gashw</th>\n",
       "      <td>0.191</td>\n",
       "      <td>-0.031</td>\n",
       "      <td>0.073</td>\n",
       "      <td>0.118</td>\n",
       "      <td>0.094</td>\n",
       "      <td>-0.039</td>\n",
       "      <td>-0.033</td>\n",
       "      <td>0.013</td>\n",
       "      <td>1.000</td>\n",
       "      <td>-0.508</td>\n",
       "      <td>0.196</td>\n",
       "      <td>-0.205</td>\n",
       "    </tr>\n",
       "    <tr>\n",
       "      <th>airco</th>\n",
       "      <td>0.599</td>\n",
       "      <td>0.378</td>\n",
       "      <td>0.218</td>\n",
       "      <td>0.208</td>\n",
       "      <td>0.292</td>\n",
       "      <td>0.231</td>\n",
       "      <td>0.248</td>\n",
       "      <td>0.076</td>\n",
       "      <td>-0.508</td>\n",
       "      <td>1.000</td>\n",
       "      <td>0.226</td>\n",
       "      <td>0.201</td>\n",
       "    </tr>\n",
       "    <tr>\n",
       "      <th>garagepl</th>\n",
       "      <td>0.411</td>\n",
       "      <td>0.402</td>\n",
       "      <td>0.152</td>\n",
       "      <td>0.156</td>\n",
       "      <td>0.017</td>\n",
       "      <td>0.380</td>\n",
       "      <td>0.081</td>\n",
       "      <td>0.069</td>\n",
       "      <td>0.196</td>\n",
       "      <td>0.226</td>\n",
       "      <td>1.000</td>\n",
       "      <td>0.137</td>\n",
       "    </tr>\n",
       "    <tr>\n",
       "      <th>prefarea</th>\n",
       "      <td>0.486</td>\n",
       "      <td>0.347</td>\n",
       "      <td>0.128</td>\n",
       "      <td>0.084</td>\n",
       "      <td>0.053</td>\n",
       "      <td>0.582</td>\n",
       "      <td>0.297</td>\n",
       "      <td>0.381</td>\n",
       "      <td>-0.205</td>\n",
       "      <td>0.201</td>\n",
       "      <td>0.137</td>\n",
       "      <td>1.000</td>\n",
       "    </tr>\n",
       "  </tbody>\n",
       "</table>\n",
       "</div>"
      ],
      "text/plain": [
       "          price  lotsize  bedrooms  bathrms  stories  driveway  recroom  \\\n",
       "price     1.000    0.612     0.365    0.378    0.349     0.546    0.449   \n",
       "lotsize   0.612    1.000     0.164    0.172    0.060     0.537    0.315   \n",
       "bedrooms  0.365    0.164     1.000    0.270    0.421    -0.006    0.122   \n",
       "bathrms   0.378    0.172     0.270    1.000    0.224     0.060    0.155   \n",
       "stories   0.349    0.060     0.421    0.224    1.000     0.144    0.042   \n",
       "driveway  0.546    0.537    -0.006    0.060    0.144     1.000    0.240   \n",
       "recroom   0.449    0.315     0.122    0.155    0.042     0.240    1.000   \n",
       "fullbase  0.300    0.083     0.121    0.111   -0.162     0.089    0.619   \n",
       "gashw     0.191   -0.031     0.073    0.118    0.094    -0.039   -0.033   \n",
       "airco     0.599    0.378     0.218    0.208    0.292     0.231    0.248   \n",
       "garagepl  0.411    0.402     0.152    0.156    0.017     0.380    0.081   \n",
       "prefarea  0.486    0.347     0.128    0.084    0.053     0.582    0.297   \n",
       "\n",
       "          fullbase  gashw  airco  garagepl  prefarea  \n",
       "price        0.300  0.191  0.599     0.411     0.486  \n",
       "lotsize      0.083 -0.031  0.378     0.402     0.347  \n",
       "bedrooms     0.121  0.073  0.218     0.152     0.128  \n",
       "bathrms      0.111  0.118  0.208     0.156     0.084  \n",
       "stories     -0.162  0.094  0.292     0.017     0.053  \n",
       "driveway     0.089 -0.039  0.231     0.380     0.582  \n",
       "recroom      0.619 -0.033  0.248     0.081     0.297  \n",
       "fullbase     1.000  0.013  0.076     0.069     0.381  \n",
       "gashw        0.013  1.000 -0.508     0.196    -0.205  \n",
       "airco        0.076 -0.508  1.000     0.226     0.201  \n",
       "garagepl     0.069  0.196  0.226     1.000     0.137  \n",
       "prefarea     0.381 -0.205  0.201     0.137     1.000  "
      ]
     },
     "execution_count": 30,
     "metadata": {},
     "output_type": "execute_result"
    }
   ],
   "source": [
    "np.round(estimate_housing['Rpointwise'], decimals=3)"
   ]
  },
  {
   "cell_type": "code",
   "execution_count": 31,
   "metadata": {},
   "outputs": [
    {
     "data": {
      "text/html": [
       "<div>\n",
       "<style scoped>\n",
       "    .dataframe tbody tr th:only-of-type {\n",
       "        vertical-align: middle;\n",
       "    }\n",
       "\n",
       "    .dataframe tbody tr th {\n",
       "        vertical-align: top;\n",
       "    }\n",
       "\n",
       "    .dataframe thead th {\n",
       "        text-align: right;\n",
       "    }\n",
       "</style>\n",
       "<table border=\"1\" class=\"dataframe\">\n",
       "  <thead>\n",
       "    <tr style=\"text-align: right;\">\n",
       "      <th></th>\n",
       "      <th>price</th>\n",
       "      <th>lotsize</th>\n",
       "      <th>bedrooms</th>\n",
       "      <th>bathrms</th>\n",
       "      <th>stories</th>\n",
       "      <th>driveway</th>\n",
       "      <th>recroom</th>\n",
       "      <th>fullbase</th>\n",
       "      <th>gashw</th>\n",
       "      <th>airco</th>\n",
       "      <th>garagepl</th>\n",
       "      <th>prefarea</th>\n",
       "    </tr>\n",
       "  </thead>\n",
       "  <tbody>\n",
       "    <tr>\n",
       "      <th>price</th>\n",
       "      <td>1.000</td>\n",
       "      <td>0.612</td>\n",
       "      <td>0.365</td>\n",
       "      <td>0.378</td>\n",
       "      <td>0.349</td>\n",
       "      <td>0.546</td>\n",
       "      <td>0.449</td>\n",
       "      <td>0.300</td>\n",
       "      <td>0.191</td>\n",
       "      <td>0.599</td>\n",
       "      <td>0.411</td>\n",
       "      <td>0.486</td>\n",
       "    </tr>\n",
       "    <tr>\n",
       "      <th>lotsize</th>\n",
       "      <td>0.612</td>\n",
       "      <td>1.000</td>\n",
       "      <td>0.164</td>\n",
       "      <td>0.172</td>\n",
       "      <td>0.060</td>\n",
       "      <td>0.537</td>\n",
       "      <td>0.315</td>\n",
       "      <td>0.083</td>\n",
       "      <td>-0.031</td>\n",
       "      <td>0.378</td>\n",
       "      <td>0.402</td>\n",
       "      <td>0.347</td>\n",
       "    </tr>\n",
       "    <tr>\n",
       "      <th>bedrooms</th>\n",
       "      <td>0.365</td>\n",
       "      <td>0.164</td>\n",
       "      <td>1.000</td>\n",
       "      <td>0.270</td>\n",
       "      <td>0.421</td>\n",
       "      <td>-0.006</td>\n",
       "      <td>0.122</td>\n",
       "      <td>0.121</td>\n",
       "      <td>0.073</td>\n",
       "      <td>0.218</td>\n",
       "      <td>0.152</td>\n",
       "      <td>0.128</td>\n",
       "    </tr>\n",
       "    <tr>\n",
       "      <th>bathrms</th>\n",
       "      <td>0.378</td>\n",
       "      <td>0.172</td>\n",
       "      <td>0.270</td>\n",
       "      <td>1.000</td>\n",
       "      <td>0.224</td>\n",
       "      <td>0.060</td>\n",
       "      <td>0.155</td>\n",
       "      <td>0.111</td>\n",
       "      <td>0.118</td>\n",
       "      <td>0.208</td>\n",
       "      <td>0.156</td>\n",
       "      <td>0.084</td>\n",
       "    </tr>\n",
       "    <tr>\n",
       "      <th>stories</th>\n",
       "      <td>0.349</td>\n",
       "      <td>0.060</td>\n",
       "      <td>0.421</td>\n",
       "      <td>0.224</td>\n",
       "      <td>1.000</td>\n",
       "      <td>0.144</td>\n",
       "      <td>0.042</td>\n",
       "      <td>-0.162</td>\n",
       "      <td>0.094</td>\n",
       "      <td>0.292</td>\n",
       "      <td>0.017</td>\n",
       "      <td>0.053</td>\n",
       "    </tr>\n",
       "    <tr>\n",
       "      <th>driveway</th>\n",
       "      <td>0.546</td>\n",
       "      <td>0.537</td>\n",
       "      <td>-0.006</td>\n",
       "      <td>0.060</td>\n",
       "      <td>0.144</td>\n",
       "      <td>1.000</td>\n",
       "      <td>0.240</td>\n",
       "      <td>0.089</td>\n",
       "      <td>-0.039</td>\n",
       "      <td>0.231</td>\n",
       "      <td>0.380</td>\n",
       "      <td>0.582</td>\n",
       "    </tr>\n",
       "    <tr>\n",
       "      <th>recroom</th>\n",
       "      <td>0.449</td>\n",
       "      <td>0.315</td>\n",
       "      <td>0.122</td>\n",
       "      <td>0.155</td>\n",
       "      <td>0.042</td>\n",
       "      <td>0.240</td>\n",
       "      <td>1.000</td>\n",
       "      <td>0.619</td>\n",
       "      <td>-0.033</td>\n",
       "      <td>0.248</td>\n",
       "      <td>0.081</td>\n",
       "      <td>0.297</td>\n",
       "    </tr>\n",
       "    <tr>\n",
       "      <th>fullbase</th>\n",
       "      <td>0.300</td>\n",
       "      <td>0.083</td>\n",
       "      <td>0.121</td>\n",
       "      <td>0.111</td>\n",
       "      <td>-0.162</td>\n",
       "      <td>0.089</td>\n",
       "      <td>0.619</td>\n",
       "      <td>1.000</td>\n",
       "      <td>0.013</td>\n",
       "      <td>0.076</td>\n",
       "      <td>0.069</td>\n",
       "      <td>0.381</td>\n",
       "    </tr>\n",
       "    <tr>\n",
       "      <th>gashw</th>\n",
       "      <td>0.191</td>\n",
       "      <td>-0.031</td>\n",
       "      <td>0.073</td>\n",
       "      <td>0.118</td>\n",
       "      <td>0.094</td>\n",
       "      <td>-0.039</td>\n",
       "      <td>-0.033</td>\n",
       "      <td>0.013</td>\n",
       "      <td>1.000</td>\n",
       "      <td>-0.508</td>\n",
       "      <td>0.196</td>\n",
       "      <td>-0.205</td>\n",
       "    </tr>\n",
       "    <tr>\n",
       "      <th>airco</th>\n",
       "      <td>0.599</td>\n",
       "      <td>0.378</td>\n",
       "      <td>0.218</td>\n",
       "      <td>0.208</td>\n",
       "      <td>0.292</td>\n",
       "      <td>0.231</td>\n",
       "      <td>0.248</td>\n",
       "      <td>0.076</td>\n",
       "      <td>-0.508</td>\n",
       "      <td>1.000</td>\n",
       "      <td>0.226</td>\n",
       "      <td>0.201</td>\n",
       "    </tr>\n",
       "    <tr>\n",
       "      <th>garagepl</th>\n",
       "      <td>0.411</td>\n",
       "      <td>0.402</td>\n",
       "      <td>0.152</td>\n",
       "      <td>0.156</td>\n",
       "      <td>0.017</td>\n",
       "      <td>0.380</td>\n",
       "      <td>0.081</td>\n",
       "      <td>0.069</td>\n",
       "      <td>0.196</td>\n",
       "      <td>0.226</td>\n",
       "      <td>1.000</td>\n",
       "      <td>0.137</td>\n",
       "    </tr>\n",
       "    <tr>\n",
       "      <th>prefarea</th>\n",
       "      <td>0.486</td>\n",
       "      <td>0.347</td>\n",
       "      <td>0.128</td>\n",
       "      <td>0.084</td>\n",
       "      <td>0.053</td>\n",
       "      <td>0.582</td>\n",
       "      <td>0.297</td>\n",
       "      <td>0.381</td>\n",
       "      <td>-0.205</td>\n",
       "      <td>0.201</td>\n",
       "      <td>0.137</td>\n",
       "      <td>1.000</td>\n",
       "    </tr>\n",
       "  </tbody>\n",
       "</table>\n",
       "</div>"
      ],
      "text/plain": [
       "          price  lotsize  bedrooms  bathrms  stories  driveway  recroom  \\\n",
       "price     1.000    0.612     0.365    0.378    0.349     0.546    0.449   \n",
       "lotsize   0.612    1.000     0.164    0.172    0.060     0.537    0.315   \n",
       "bedrooms  0.365    0.164     1.000    0.270    0.421    -0.006    0.122   \n",
       "bathrms   0.378    0.172     0.270    1.000    0.224     0.060    0.155   \n",
       "stories   0.349    0.060     0.421    0.224    1.000     0.144    0.042   \n",
       "driveway  0.546    0.537    -0.006    0.060    0.144     1.000    0.240   \n",
       "recroom   0.449    0.315     0.122    0.155    0.042     0.240    1.000   \n",
       "fullbase  0.300    0.083     0.121    0.111   -0.162     0.089    0.619   \n",
       "gashw     0.191   -0.031     0.073    0.118    0.094    -0.039   -0.033   \n",
       "airco     0.599    0.378     0.218    0.208    0.292     0.231    0.248   \n",
       "garagepl  0.411    0.402     0.152    0.156    0.017     0.380    0.081   \n",
       "prefarea  0.486    0.347     0.128    0.084    0.053     0.582    0.297   \n",
       "\n",
       "          fullbase  gashw  airco  garagepl  prefarea  \n",
       "price        0.300  0.191  0.599     0.411     0.486  \n",
       "lotsize      0.083 -0.031  0.378     0.402     0.347  \n",
       "bedrooms     0.121  0.073  0.218     0.152     0.128  \n",
       "bathrms      0.111  0.118  0.208     0.156     0.084  \n",
       "stories     -0.162  0.094  0.292     0.017     0.053  \n",
       "driveway     0.089 -0.039  0.231     0.380     0.582  \n",
       "recroom      0.619 -0.033  0.248     0.081     0.297  \n",
       "fullbase     1.000  0.013  0.076     0.069     0.381  \n",
       "gashw        0.013  1.000 -0.508     0.196    -0.205  \n",
       "airco        0.076 -0.508  1.000     0.226     0.201  \n",
       "garagepl     0.069  0.196  0.226     1.000     0.137  \n",
       "prefarea     0.381 -0.205  0.201     0.137     1.000  "
      ]
     },
     "execution_count": 31,
     "metadata": {},
     "output_type": "execute_result"
    }
   ],
   "source": [
    "np.round(estimate_housing['R'], decimals=3)"
   ]
  },
  {
   "cell_type": "code",
   "execution_count": 33,
   "metadata": {},
   "outputs": [
    {
     "data": {
      "text/plain": [
       "[Text(0.5, 1.0, 'Estimated latent correlation')]"
      ]
     },
     "execution_count": 33,
     "metadata": {},
     "output_type": "execute_result"
    }
   ],
   "source": [
    "estimate_housing['plot']"
   ]
  }
 ],
 "metadata": {
  "kernelspec": {
   "display_name": "Python 3.10.4 64-bit",
   "language": "python",
   "name": "python3"
  },
  "language_info": {
   "codemirror_mode": {
    "name": "ipython",
    "version": 3
   },
   "file_extension": ".py",
   "mimetype": "text/x-python",
   "name": "python",
   "nbconvert_exporter": "python",
   "pygments_lexer": "ipython3",
   "version": "3.10.6"
  },
  "orig_nbformat": 4,
  "vscode": {
   "interpreter": {
    "hash": "62b37a07cc0dcae468f3901e1e950767af5d3ba007d2029f8a2d39cb80929972"
   }
  }
 },
 "nbformat": 4,
 "nbformat_minor": 2
}
