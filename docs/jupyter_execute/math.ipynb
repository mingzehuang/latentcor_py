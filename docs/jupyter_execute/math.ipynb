{
 "cells": [
  {
   "cell_type": "code",
   "execution_count": 1,
   "id": "442c836e",
   "metadata": {
    "execution": {
     "iopub.execute_input": "2022-01-06T22:12:05.020146Z",
     "iopub.status.busy": "2022-01-06T22:12:05.020146Z",
     "iopub.status.idle": "2022-01-06T22:12:06.213537Z",
     "shell.execute_reply": "2022-01-06T22:12:06.213537Z"
    }
   },
   "outputs": [],
   "source": [
    "from latentcor import gen_data, latentcor"
   ]
  },
  {
   "cell_type": "code",
   "execution_count": 2,
   "id": "802b91a1",
   "metadata": {
    "execution": {
     "iopub.execute_input": "2022-01-06T22:12:06.213537Z",
     "iopub.status.busy": "2022-01-06T22:12:06.213537Z",
     "iopub.status.idle": "2022-01-06T22:12:06.229156Z",
     "shell.execute_reply": "2022-01-06T22:12:06.229156Z"
    }
   },
   "outputs": [
    {
     "name": "stdout",
     "output_type": "stream",
     "text": [
      "[[-1.10300386]\n",
      " [-0.52414484]\n",
      " [-0.05555692]\n",
      " [-0.69117318]\n",
      " [ 0.02243589]\n",
      " [ 1.40453912]]\n"
     ]
    }
   ],
   "source": [
    "print(gen_data(n = 6, tps = \"con\")[0])"
   ]
  },
  {
   "cell_type": "code",
   "execution_count": 3,
   "id": "b4f126ff",
   "metadata": {
    "execution": {
     "iopub.execute_input": "2022-01-06T22:12:06.229156Z",
     "iopub.status.busy": "2022-01-06T22:12:06.229156Z",
     "iopub.status.idle": "2022-01-06T22:12:06.244780Z",
     "shell.execute_reply": "2022-01-06T22:12:06.244780Z"
    }
   },
   "outputs": [
    {
     "name": "stdout",
     "output_type": "stream",
     "text": [
      "[[1.]\n",
      " [0.]\n",
      " [1.]\n",
      " [0.]\n",
      " [0.]\n",
      " [1.]]\n"
     ]
    }
   ],
   "source": [
    "print(gen_data(n = 6, tps = \"bin\")[0])"
   ]
  },
  {
   "cell_type": "code",
   "execution_count": 4,
   "id": "5e1b9bdb",
   "metadata": {
    "execution": {
     "iopub.execute_input": "2022-01-06T22:12:06.244780Z",
     "iopub.status.busy": "2022-01-06T22:12:06.244780Z",
     "iopub.status.idle": "2022-01-06T22:12:06.260405Z",
     "shell.execute_reply": "2022-01-06T22:12:06.260405Z"
    }
   },
   "outputs": [
    {
     "name": "stdout",
     "output_type": "stream",
     "text": [
      "[[1.]\n",
      " [1.]\n",
      " [1.]\n",
      " [0.]\n",
      " [2.]\n",
      " [0.]]\n"
     ]
    }
   ],
   "source": [
    "print(gen_data(n = 6, tps = \"ter\")[0])"
   ]
  },
  {
   "cell_type": "code",
   "execution_count": 5,
   "id": "5e17cd2f",
   "metadata": {
    "execution": {
     "iopub.execute_input": "2022-01-06T22:12:06.265417Z",
     "iopub.status.busy": "2022-01-06T22:12:06.265417Z",
     "iopub.status.idle": "2022-01-06T22:12:06.276753Z",
     "shell.execute_reply": "2022-01-06T22:12:06.276753Z"
    }
   },
   "outputs": [
    {
     "name": "stdout",
     "output_type": "stream",
     "text": [
      "[[1.29010773]\n",
      " [0.        ]\n",
      " [0.04887786]\n",
      " [0.28274882]\n",
      " [0.        ]\n",
      " [0.        ]]\n"
     ]
    }
   ],
   "source": [
    "print(gen_data(n = 6, tps = \"tru\")[0])"
   ]
  },
  {
   "cell_type": "code",
   "execution_count": 6,
   "id": "99da3809",
   "metadata": {
    "execution": {
     "iopub.execute_input": "2022-01-06T22:12:06.276753Z",
     "iopub.status.busy": "2022-01-06T22:12:06.276753Z",
     "iopub.status.idle": "2022-01-06T22:12:06.304162Z",
     "shell.execute_reply": "2022-01-06T22:12:06.303089Z"
    }
   },
   "outputs": [
    {
     "name": "stdout",
     "output_type": "stream",
     "text": [
      "[[-0.81281798  0.          0.          0.        ]\n",
      " [ 1.90640829  1.          2.          2.24409008]\n",
      " [ 0.07076494  1.          0.          0.10747699]\n",
      " [ 0.33485887  1.          1.          0.05858327]\n",
      " [-0.04034439  0.          1.          0.65400153]\n",
      " [ 1.45696388  1.          1.          1.39128733]]\n"
     ]
    }
   ],
   "source": [
    "X = gen_data(n = 100, tps = [\"con\", \"bin\", \"ter\", \"tru\"])[0]\n",
    "print(X[ :6, : ])"
   ]
  },
  {
   "cell_type": "code",
   "execution_count": 7,
   "id": "ba7b542d",
   "metadata": {
    "execution": {
     "iopub.execute_input": "2022-01-06T22:12:06.308171Z",
     "iopub.status.busy": "2022-01-06T22:12:06.307173Z",
     "iopub.status.idle": "2022-01-06T22:12:09.493632Z",
     "shell.execute_reply": "2022-01-06T22:12:09.492631Z"
    }
   },
   "outputs": [
    {
     "name": "stdout",
     "output_type": "stream",
     "text": [
      "[[1.         0.24565656 0.3648485  0.39858586]\n",
      " [0.24565656 1.         0.15151516 0.35272726]\n",
      " [0.3648485  0.15151516 1.         0.26848486]\n",
      " [0.39858586 0.35272726 0.26848486 1.        ]]\n"
     ]
    }
   ],
   "source": [
    "K = latentcor(X, tps = [\"con\", \"bin\", \"ter\", \"tru\"])[3]\n",
    "print(K)"
   ]
  },
  {
   "cell_type": "code",
   "execution_count": 8,
   "id": "5bf1654a",
   "metadata": {
    "execution": {
     "iopub.execute_input": "2022-01-06T22:12:09.498631Z",
     "iopub.status.busy": "2022-01-06T22:12:09.497631Z",
     "iopub.status.idle": "2022-01-06T22:12:11.748562Z",
     "shell.execute_reply": "2022-01-06T22:12:11.748562Z"
    }
   },
   "outputs": [],
   "source": [
    "estimate_original = latentcor(X, tps = [\"con\", \"bin\", \"ter\", \"tru\"], method = \"original\", tol = 1e-8)"
   ]
  },
  {
   "cell_type": "code",
   "execution_count": 9,
   "id": "fbaf247c",
   "metadata": {
    "execution": {
     "iopub.execute_input": "2022-01-06T22:12:11.748562Z",
     "iopub.status.busy": "2022-01-06T22:12:11.748562Z",
     "iopub.status.idle": "2022-01-06T22:12:11.764190Z",
     "shell.execute_reply": "2022-01-06T22:12:11.764190Z"
    }
   },
   "outputs": [
    {
     "name": "stdout",
     "output_type": "stream",
     "text": [
      "[[1.         0.24565656 0.3648485  0.39858586]\n",
      " [0.24565656 1.         0.15151516 0.35272726]\n",
      " [0.3648485  0.15151516 1.         0.26848486]\n",
      " [0.39858586 0.35272726 0.26848486 1.        ]]\n"
     ]
    }
   ],
   "source": [
    "print(estimate_original[3])"
   ]
  },
  {
   "cell_type": "code",
   "execution_count": 10,
   "id": "5ceb0752",
   "metadata": {
    "execution": {
     "iopub.execute_input": "2022-01-06T22:12:11.764190Z",
     "iopub.status.busy": "2022-01-06T22:12:11.764190Z",
     "iopub.status.idle": "2022-01-06T22:12:11.780249Z",
     "shell.execute_reply": "2022-01-06T22:12:11.780249Z"
    }
   },
   "outputs": [
    {
     "name": "stdout",
     "output_type": "stream",
     "text": [
      "[[nan 0.5 0.3 0.5]\n",
      " [nan nan 0.8 nan]]\n"
     ]
    }
   ],
   "source": [
    "print(estimate_original[4])"
   ]
  },
  {
   "cell_type": "code",
   "execution_count": 11,
   "id": "c5c55e36",
   "metadata": {
    "execution": {
     "iopub.execute_input": "2022-01-06T22:12:11.780249Z",
     "iopub.status.busy": "2022-01-06T22:12:11.780249Z",
     "iopub.status.idle": "2022-01-06T22:12:11.796005Z",
     "shell.execute_reply": "2022-01-06T22:12:11.796005Z"
    }
   },
   "outputs": [
    {
     "name": "stdout",
     "output_type": "stream",
     "text": [
      "[[1.         0.53226936 0.6461713  0.68130815]\n",
      " [0.53226936 1.         0.39480284 0.82508487]\n",
      " [0.6461713  0.39480284 1.         0.5648185 ]\n",
      " [0.68130815 0.82508487 0.5648185  1.        ]]\n"
     ]
    }
   ],
   "source": [
    "print(estimate_original[1])"
   ]
  },
  {
   "cell_type": "code",
   "execution_count": 12,
   "id": "cf9b821f",
   "metadata": {
    "execution": {
     "iopub.execute_input": "2022-01-06T22:12:11.796005Z",
     "iopub.status.busy": "2022-01-06T22:12:11.796005Z",
     "iopub.status.idle": "2022-01-06T22:12:11.811505Z",
     "shell.execute_reply": "2022-01-06T22:12:11.811505Z"
    }
   },
   "outputs": [
    {
     "name": "stdout",
     "output_type": "stream",
     "text": [
      "[[1.         0.5320269  0.6459954  0.6810841 ]\n",
      " [0.5320269  1.         0.40463865 0.8248321 ]\n",
      " [0.6459954  0.40463865 1.         0.5633292 ]\n",
      " [0.6810841  0.8248321  0.5633292  1.        ]]\n"
     ]
    }
   ],
   "source": [
    "estimate_approx = latentcor(X, tps = [\"con\", \"bin\", \"ter\", \"tru\"], method = \"approx\")\n",
    "print(estimate_approx[1])"
   ]
  },
  {
   "cell_type": "code",
   "execution_count": 13,
   "id": "5a27094b",
   "metadata": {
    "execution": {
     "iopub.execute_input": "2022-01-06T22:12:11.811505Z",
     "iopub.status.busy": "2022-01-06T22:12:11.811505Z",
     "iopub.status.idle": "2022-01-06T22:12:12.798433Z",
     "shell.execute_reply": "2022-01-06T22:12:12.798433Z"
    }
   },
   "outputs": [
    {
     "name": "stdout",
     "output_type": "stream",
     "text": [
      "[[1.         0.53149486 0.64534938 0.68040301]\n",
      " [0.53149486 1.         0.40423401 0.82400725]\n",
      " [0.64534938 0.40423401 1.         0.56276589]\n",
      " [0.68040301 0.82400725 0.56276589 1.        ]]\n"
     ]
    },
    {
     "name": "stdout",
     "output_type": "stream",
     "text": [
      "[[1.         0.53173709 0.64552635 0.6806241 ]\n",
      " [0.53173709 1.         0.40423401 0.82425978]\n",
      " [0.64552635 0.40423401 1.         0.56276589]\n",
      " [0.6806241  0.82425978 0.56276589 1.        ]]\n"
     ]
    },
    {
     "name": "stdout",
     "output_type": "stream",
     "text": [
      "[[1.         0.53173709 0.6455251  0.68064959]\n",
      " [0.53173709 1.         0.39440804 0.82426317]\n",
      " [0.6455251  0.39440804 1.         0.56423737]\n",
      " [0.68064959 0.82426317 0.56423737 1.        ]]\n"
     ]
    }
   ],
   "source": [
    "print(latentcor(X, tps = [\"con\", \"bin\", \"ter\", \"tru\"], method = \"approx\", ratio = 0.99)[0])\n",
    "print(latentcor(X, tps = [\"con\", \"bin\", \"ter\", \"tru\"], method = \"approx\", ratio = 0.4)[0])\n",
    "print(latentcor(X, tps = [\"con\", \"bin\", \"ter\", \"tru\"], method = \"original\")[0])"
   ]
  },
  {
   "cell_type": "code",
   "execution_count": 14,
   "id": "d43d530a",
   "metadata": {
    "execution": {
     "iopub.execute_input": "2022-01-06T22:12:12.798433Z",
     "iopub.status.busy": "2022-01-06T22:12:12.798433Z",
     "iopub.status.idle": "2022-01-06T22:12:12.845282Z",
     "shell.execute_reply": "2022-01-06T22:12:12.845282Z"
    }
   },
   "outputs": [
    {
     "name": "stdout",
     "output_type": "stream",
     "text": [
      "[[ 1.         -0.43679577 -0.12556705  0.24322058]\n",
      " [-0.43679577  1.          0.989999    0.78908217]\n",
      " [-0.12556705  0.989999    1.          0.8764548 ]\n",
      " [ 0.24322058  0.78908217  0.8764548   1.        ]]\n"
     ]
    },
    {
     "name": "stderr",
     "output_type": "stream",
     "text": [
      "C:\\Users\\mingz\\AppData\\Local\\Programs\\Python\\Python310\\lib\\site-packages\\statsmodels\\stats\\correlation_tools.py:90: IterationLimitWarning: \n",
      "Maximum iteration reached.\n",
      "\n",
      "  warnings.warn(iteration_limit_doc, IterationLimitWarning)\n"
     ]
    }
   ],
   "source": [
    "X = gen_data(n = 6, tps = [\"con\", \"bin\", \"ter\", \"tru\"])[0]\n",
    "print(latentcor(X, tps = [\"con\", \"bin\", \"ter\", \"tru\"])[1])"
   ]
  },
  {
   "cell_type": "code",
   "execution_count": 15,
   "id": "c9afb3a2",
   "metadata": {
    "execution": {
     "iopub.execute_input": "2022-01-06T22:12:12.845282Z",
     "iopub.status.busy": "2022-01-06T22:12:12.845282Z",
     "iopub.status.idle": "2022-01-06T22:12:12.892548Z",
     "shell.execute_reply": "2022-01-06T22:12:12.892548Z"
    }
   },
   "outputs": [
    {
     "name": "stdout",
     "output_type": "stream",
     "text": [
      "[[ 1.         -0.41317534 -0.13963728  0.23550779]\n",
      " [-0.41317534  1.          0.95386698  0.769802  ]\n",
      " [-0.13963728  0.95386698  1.          0.88690078]\n",
      " [ 0.23550779  0.769802    0.88690078  1.        ]]\n"
     ]
    },
    {
     "name": "stderr",
     "output_type": "stream",
     "text": [
      "C:\\Users\\mingz\\AppData\\Local\\Programs\\Python\\Python310\\lib\\site-packages\\statsmodels\\stats\\correlation_tools.py:90: IterationLimitWarning: \n",
      "Maximum iteration reached.\n",
      "\n",
      "  warnings.warn(iteration_limit_doc, IterationLimitWarning)\n"
     ]
    }
   ],
   "source": [
    "print(latentcor(X, tps = [\"con\", \"bin\", \"ter\", \"tru\"])[0])"
   ]
  },
  {
   "cell_type": "code",
   "execution_count": 16,
   "id": "7bb210ab",
   "metadata": {
    "execution": {
     "iopub.execute_input": "2022-01-06T22:12:12.892548Z",
     "iopub.status.busy": "2022-01-06T22:12:12.892548Z",
     "iopub.status.idle": "2022-01-06T22:12:12.923812Z",
     "shell.execute_reply": "2022-01-06T22:12:12.923812Z"
    }
   },
   "outputs": [
    {
     "name": "stdout",
     "output_type": "stream",
     "text": [
      "[[ 1.         -0.41317534 -0.13963728  0.23550779]\n",
      " [-0.41317534  1.          0.95386698  0.769802  ]\n",
      " [-0.13963728  0.95386698  1.          0.88690078]\n",
      " [ 0.23550779  0.769802    0.88690078  1.        ]]\n"
     ]
    },
    {
     "name": "stderr",
     "output_type": "stream",
     "text": [
      "C:\\Users\\mingz\\AppData\\Local\\Programs\\Python\\Python310\\lib\\site-packages\\statsmodels\\stats\\correlation_tools.py:90: IterationLimitWarning: \n",
      "Maximum iteration reached.\n",
      "\n",
      "  warnings.warn(iteration_limit_doc, IterationLimitWarning)\n"
     ]
    }
   ],
   "source": [
    "print(latentcor(X, tps = [\"con\", \"bin\", \"ter\", \"tru\"], nu = 0.001)[0])"
   ]
  },
  {
   "cell_type": "code",
   "execution_count": 17,
   "id": "94358ce4",
   "metadata": {
    "execution": {
     "iopub.execute_input": "2022-01-06T22:12:12.923812Z",
     "iopub.status.busy": "2022-01-06T22:12:12.923812Z",
     "iopub.status.idle": "2022-01-06T22:12:12.939423Z",
     "shell.execute_reply": "2022-01-06T22:12:12.939423Z"
    }
   },
   "outputs": [
    {
     "name": "stdout",
     "output_type": "stream",
     "text": [
      "[[1.         0.5145595  0.44787472 0.3408426 ]\n",
      " [0.5145595  1.         0.4448264  0.48545116]\n",
      " [0.44787472 0.4448264  1.         0.57137   ]\n",
      " [0.3408426  0.48545116 0.57137    1.        ]]\n",
      "[[1.         0.51404495 0.44742685 0.34050176]\n",
      " [0.51404495 1.         0.44438157 0.48496571]\n",
      " [0.44742685 0.44438157 1.         0.57079864]\n",
      " [0.34050176 0.48496571 0.57079864 1.        ]]\n"
     ]
    }
   ],
   "source": [
    "X = gen_data(n = 100, tps = [\"con\", \"bin\", \"ter\", \"tru\"])[0]\n",
    "out = latentcor(X, tps = [\"con\", \"bin\", \"ter\", \"tru\"], nu = 0.001)\n",
    "print(out[1])\n",
    "print(out[0])"
   ]
  }
 ],
 "metadata": {
  "kernelspec": {
   "display_name": "Python 3 (ipykernel)",
   "language": "python",
   "name": "python3"
  },
  "language_info": {
   "codemirror_mode": {
    "name": "ipython",
    "version": 3
   },
   "file_extension": ".py",
   "mimetype": "text/x-python",
   "name": "python",
   "nbconvert_exporter": "python",
   "pygments_lexer": "ipython3",
   "version": "3.10.1"
  }
 },
 "nbformat": 4,
 "nbformat_minor": 5
}