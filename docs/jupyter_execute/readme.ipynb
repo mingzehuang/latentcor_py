{
 "cells": [
  {
   "cell_type": "code",
   "execution_count": 1,
   "id": "b9914150",
   "metadata": {
    "execution": {
     "iopub.execute_input": "2022-01-06T21:39:21.797087Z",
     "iopub.status.busy": "2022-01-06T21:39:21.797087Z",
     "iopub.status.idle": "2022-01-06T21:39:23.217947Z",
     "shell.execute_reply": "2022-01-06T21:39:23.217947Z"
    }
   },
   "outputs": [],
   "source": [
    "from latentcor import gen_data, get_tps, latentcor"
   ]
  },
  {
   "cell_type": "code",
   "execution_count": 2,
   "id": "e5410779",
   "metadata": {
    "execution": {
     "iopub.execute_input": "2022-01-06T21:39:23.217947Z",
     "iopub.status.busy": "2022-01-06T21:39:23.217947Z",
     "iopub.status.idle": "2022-01-06T21:39:23.233571Z",
     "shell.execute_reply": "2022-01-06T21:39:23.233571Z"
    }
   },
   "outputs": [
    {
     "name": "stdout",
     "output_type": "stream",
     "text": [
      "[[ 0.         -2.3039148 ]\n",
      " [ 0.         -0.67041373]\n",
      " [ 0.          0.47630433]\n",
      " [ 0.         -1.14202153]\n",
      " [ 0.         -0.31607545]\n",
      " [ 0.         -0.45213413]]\n"
     ]
    }
   ],
   "source": [
    "simdata = gen_data(n = 100, tps = [\"ter\", \"con\"])\n",
    "print(simdata[0][ : 6, : ])"
   ]
  },
  {
   "cell_type": "code",
   "execution_count": 3,
   "id": "c78be8aa",
   "metadata": {
    "execution": {
     "iopub.execute_input": "2022-01-06T21:39:23.233571Z",
     "iopub.status.busy": "2022-01-06T21:39:23.233571Z",
     "iopub.status.idle": "2022-01-06T21:39:25.672030Z",
     "shell.execute_reply": "2022-01-06T21:39:25.672030Z"
    }
   },
   "outputs": [
    {
     "name": "stdout",
     "output_type": "stream",
     "text": [
      "[[1.         0.57228798]\n",
      " [0.57228798 1.        ]]\n"
     ]
    }
   ],
   "source": [
    "estimate = latentcor(simdata[0], tps = [\"ter\", \"con\"])\n",
    "print(estimate[0])"
   ]
  }
 ],
 "metadata": {
  "kernelspec": {
   "display_name": "Python 3 (ipykernel)",
   "language": "python",
   "name": "python3"
  },
  "language_info": {
   "codemirror_mode": {
    "name": "ipython",
    "version": 3
   },
   "file_extension": ".py",
   "mimetype": "text/x-python",
   "name": "python",
   "nbconvert_exporter": "python",
   "pygments_lexer": "ipython3",
   "version": "3.10.1"
  }
 },
 "nbformat": 4,
 "nbformat_minor": 5
}