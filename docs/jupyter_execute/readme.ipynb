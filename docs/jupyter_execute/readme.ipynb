{
 "cells": [
  {
   "cell_type": "code",
   "execution_count": 1,
   "id": "51a0b85e",
   "metadata": {
    "execution": {
     "iopub.execute_input": "2022-01-06T20:57:20.585764Z",
     "iopub.status.busy": "2022-01-06T20:57:20.585764Z",
     "iopub.status.idle": "2022-01-06T20:57:21.819054Z",
     "shell.execute_reply": "2022-01-06T20:57:21.819054Z"
    }
   },
   "outputs": [],
   "source": [
    "from latentcor import gen_data, get_tps, latentcor"
   ]
  },
  {
   "cell_type": "code",
   "execution_count": 2,
   "id": "0310a083",
   "metadata": {
    "execution": {
     "iopub.execute_input": "2022-01-06T20:57:21.819054Z",
     "iopub.status.busy": "2022-01-06T20:57:21.819054Z",
     "iopub.status.idle": "2022-01-06T20:57:21.834755Z",
     "shell.execute_reply": "2022-01-06T20:57:21.834755Z"
    }
   },
   "outputs": [
    {
     "name": "stdout",
     "output_type": "stream",
     "text": [
      "[[ 0.         -0.25139223]\n",
      " [ 1.         -0.27103233]\n",
      " [ 2.          0.87601115]\n",
      " [ 0.         -1.27913934]\n",
      " [ 1.         -0.60885613]\n",
      " [ 1.          0.73833293]]\n"
     ]
    }
   ],
   "source": [
    "simdata = gen_data(n = 100, tps = [\"ter\", \"con\"])\n",
    "print(simdata[0][ : 6, : ])"
   ]
  },
  {
   "cell_type": "code",
   "execution_count": 3,
   "id": "45ffa3b7",
   "metadata": {
    "execution": {
     "iopub.execute_input": "2022-01-06T20:57:21.834755Z",
     "iopub.status.busy": "2022-01-06T20:57:21.834755Z",
     "iopub.status.idle": "2022-01-06T20:57:24.143226Z",
     "shell.execute_reply": "2022-01-06T20:57:24.143226Z"
    }
   },
   "outputs": [
    {
     "name": "stdout",
     "output_type": "stream",
     "text": [
      "[[1.         0.41214638]\n",
      " [0.41214638 1.        ]]\n"
     ]
    }
   ],
   "source": [
    "estimate = latentcor(simdata[0], tps = [\"ter\", \"con\"])\n",
    "print(estimate[0])"
   ]
  }
 ],
 "metadata": {
  "kernelspec": {
   "display_name": "Python 3 (ipykernel)",
   "language": "python",
   "name": "python3"
  },
  "language_info": {
   "codemirror_mode": {
    "name": "ipython",
    "version": 3
   },
   "file_extension": ".py",
   "mimetype": "text/x-python",
   "name": "python",
   "nbconvert_exporter": "python",
   "pygments_lexer": "ipython3",
   "version": "3.10.1"
  }
 },
 "nbformat": 4,
 "nbformat_minor": 5
}