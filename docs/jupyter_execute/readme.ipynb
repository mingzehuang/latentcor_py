{
 "cells": [
  {
   "cell_type": "code",
   "execution_count": 1,
   "id": "d6da5552",
   "metadata": {
    "execution": {
     "iopub.execute_input": "2022-01-07T14:35:02.090736Z",
     "iopub.status.busy": "2022-01-07T14:35:02.090736Z",
     "iopub.status.idle": "2022-01-07T14:35:03.364846Z",
     "shell.execute_reply": "2022-01-07T14:35:03.364846Z"
    }
   },
   "outputs": [],
   "source": [
    "from latentcor import gen_data, get_tps, latentcor"
   ]
  },
  {
   "cell_type": "code",
   "execution_count": 2,
   "id": "24a253a6",
   "metadata": {
    "execution": {
     "iopub.execute_input": "2022-01-07T14:35:03.380860Z",
     "iopub.status.busy": "2022-01-07T14:35:03.372853Z",
     "iopub.status.idle": "2022-01-07T14:35:03.396497Z",
     "shell.execute_reply": "2022-01-07T14:35:03.396497Z"
    }
   },
   "outputs": [
    {
     "name": "stdout",
     "output_type": "stream",
     "text": [
      "[[ 1.         -2.17325139]\n",
      " [ 1.          0.51995206]\n",
      " [ 0.         -2.17312348]\n",
      " [ 1.         -0.88624569]\n",
      " [ 0.         -1.60171188]\n",
      " [ 1.          1.44780773]]\n"
     ]
    }
   ],
   "source": [
    "simdata = gen_data(n = 100, tps = [\"ter\", \"con\"])\n",
    "print(simdata[0][ : 6, : ])"
   ]
  },
  {
   "cell_type": "code",
   "execution_count": 3,
   "id": "f5dfe447",
   "metadata": {
    "execution": {
     "iopub.execute_input": "2022-01-07T14:35:03.396497Z",
     "iopub.status.busy": "2022-01-07T14:35:03.396497Z",
     "iopub.status.idle": "2022-01-07T14:35:05.743199Z",
     "shell.execute_reply": "2022-01-07T14:35:05.743199Z"
    }
   },
   "outputs": [
    {
     "name": "stdout",
     "output_type": "stream",
     "text": [
      "[[1.         0.46224463]\n",
      " [0.46224463 1.        ]]\n"
     ]
    }
   ],
   "source": [
    "estimate = latentcor(simdata[0], tps = [\"ter\", \"con\"])\n",
    "print(estimate[0])"
   ]
  }
 ],
 "metadata": {
  "kernelspec": {
   "display_name": "Python 3 (ipykernel)",
   "language": "python",
   "name": "python3"
  },
  "language_info": {
   "codemirror_mode": {
    "name": "ipython",
    "version": 3
   },
   "file_extension": ".py",
   "mimetype": "text/x-python",
   "name": "python",
   "nbconvert_exporter": "python",
   "pygments_lexer": "ipython3",
   "version": "3.10.1"
  }
 },
 "nbformat": 4,
 "nbformat_minor": 5
}